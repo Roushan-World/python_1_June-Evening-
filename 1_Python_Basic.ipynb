{
 "cells": [
  {
   "cell_type": "code",
   "execution_count": 1,
   "id": "c4fec1b9-e3a6-4ec9-a4b8-e2d44919b439",
   "metadata": {},
   "outputs": [
    {
     "name": "stdout",
     "output_type": "stream",
     "text": [
      "Hello world\n"
     ]
    }
   ],
   "source": [
    "# print is a keyword to display the output in python\n",
    "print('Hello world')"
   ]
  },
  {
   "cell_type": "code",
   "execution_count": 2,
   "id": "f1c21ecb-37af-46d6-ab21-d23e88f35438",
   "metadata": {},
   "outputs": [
    {
     "name": "stdout",
     "output_type": "stream",
     "text": [
      "Charu\n"
     ]
    }
   ],
   "source": [
    "print('Charu')"
   ]
  },
  {
   "cell_type": "code",
   "execution_count": 3,
   "id": "1c225c68-55c1-4a51-baa5-af0330060dd7",
   "metadata": {},
   "outputs": [
    {
     "ename": "NameError",
     "evalue": "name 'charu' is not defined",
     "output_type": "error",
     "traceback": [
      "\u001b[1;31m---------------------------------------------------------------------------\u001b[0m",
      "\u001b[1;31mNameError\u001b[0m                                 Traceback (most recent call last)",
      "Cell \u001b[1;32mIn[3], line 2\u001b[0m\n\u001b[0;32m      1\u001b[0m \u001b[38;5;66;03m# string is always written in quotes.\u001b[39;00m\n\u001b[1;32m----> 2\u001b[0m \u001b[38;5;28mprint\u001b[39m(\u001b[43mcharu\u001b[49m)\n",
      "\u001b[1;31mNameError\u001b[0m: name 'charu' is not defined"
     ]
    }
   ],
   "source": [
    "# string is always written in quotes.\n",
    "print(charu)"
   ]
  },
  {
   "cell_type": "code",
   "execution_count": 6,
   "id": "e9f58cdd-378c-44e7-b810-8bd0d12f51af",
   "metadata": {},
   "outputs": [],
   "source": [
    "# True has a some value i.e = 1"
   ]
  },
  {
   "cell_type": "code",
   "execution_count": 5,
   "id": "ca56c314-6a53-44d3-904e-ac689d945965",
   "metadata": {},
   "outputs": [],
   "source": [
    "# How to check your python version using python command\n",
    "import sys"
   ]
  },
  {
   "cell_type": "code",
   "execution_count": 7,
   "id": "ac5f0a4c-7ed4-4317-a439-17027d130c33",
   "metadata": {},
   "outputs": [
    {
     "name": "stdout",
     "output_type": "stream",
     "text": [
      "3.12.2 (tags/v3.12.2:6abddd9, Feb  6 2024, 21:26:36) [MSC v.1937 64 bit (AMD64)]\n"
     ]
    }
   ],
   "source": [
    "print(sys.version)"
   ]
  },
  {
   "cell_type": "markdown",
   "id": "8be6b28b-d014-4de9-b37a-8f6002ffbedc",
   "metadata": {},
   "source": [
    "# comment"
   ]
  },
  {
   "cell_type": "code",
   "execution_count": 9,
   "id": "21e1e7d5-a370-40f8-83b2-32c335f14283",
   "metadata": {},
   "outputs": [],
   "source": [
    "# How to write comment in Python\n",
    "\n",
    "# It is a comment line\n",
    "# print('Hello World')"
   ]
  },
  {
   "cell_type": "markdown",
   "id": "5c0316ac-a96c-4106-be58-fe9a6ace5254",
   "metadata": {},
   "source": [
    "# Getting Error in Python"
   ]
  },
  {
   "cell_type": "code",
   "execution_count": 11,
   "id": "67badcbd-2fcb-44c9-9ec1-e1b91c8fa149",
   "metadata": {},
   "outputs": [
    {
     "name": "stdout",
     "output_type": "stream",
     "text": [
      "Hello world\n",
      "Hi python\n",
      "Congratulation\n"
     ]
    },
    {
     "ename": "NameError",
     "evalue": "name 'Welcome' is not defined",
     "output_type": "error",
     "traceback": [
      "\u001b[1;31m---------------------------------------------------------------------------\u001b[0m",
      "\u001b[1;31mNameError\u001b[0m                                 Traceback (most recent call last)",
      "Cell \u001b[1;32mIn[11], line 4\u001b[0m\n\u001b[0;32m      2\u001b[0m \u001b[38;5;28mprint\u001b[39m(\u001b[38;5;124m'\u001b[39m\u001b[38;5;124mHi python\u001b[39m\u001b[38;5;124m'\u001b[39m)\n\u001b[0;32m      3\u001b[0m \u001b[38;5;28mprint\u001b[39m(\u001b[38;5;124m'\u001b[39m\u001b[38;5;124mCongratulation\u001b[39m\u001b[38;5;124m'\u001b[39m)\n\u001b[1;32m----> 4\u001b[0m \u001b[38;5;28mprint\u001b[39m(\u001b[43mWelcome\u001b[49m)\n\u001b[0;32m      5\u001b[0m \u001b[38;5;28mprint\u001b[39m(\u001b[38;5;124m'\u001b[39m\u001b[38;5;124mPython is the programming language.\u001b[39m\u001b[38;5;124m'\u001b[39m)\n",
      "\u001b[1;31mNameError\u001b[0m: name 'Welcome' is not defined"
     ]
    }
   ],
   "source": [
    "print('Hello world')\n",
    "print('Hi python')\n",
    "print('Congratulation')\n",
    "print(Welcome)\n",
    "print('Python is the programming language.')"
   ]
  },
  {
   "cell_type": "code",
   "execution_count": 17,
   "id": "e39f9439-3359-4684-ad07-e0e5ad3bfe52",
   "metadata": {},
   "outputs": [
    {
     "name": "stdout",
     "output_type": "stream",
     "text": [
      "Hello world\n",
      "Hi python\n",
      "Congratulation\n",
      "Welcome\n",
      "Python is the programming language.\n"
     ]
    }
   ],
   "source": [
    "print('Hello world')\n",
    "print('Hi python')\n",
    "print('Congratulation')\n",
    "print('Welcome')\n",
    "print('Python is the programming language.')"
   ]
  },
  {
   "cell_type": "code",
   "execution_count": 18,
   "id": "89eab2ae-bd50-4ca7-967d-b38454a2ea7f",
   "metadata": {},
   "outputs": [],
   "source": [
    "# Quotes are of three types\n",
    "# 1. single quotes i.e- ''\n",
    "# 2. double quotes i.e - \"\"\n",
    "# 3. thiple quotes i.e - '''   '''   \"\"\"   \"\"\""
   ]
  },
  {
   "cell_type": "code",
   "execution_count": 19,
   "id": "392dcaac-edce-4335-a87f-4720ba0a7c1e",
   "metadata": {},
   "outputs": [
    {
     "name": "stdout",
     "output_type": "stream",
     "text": [
      "Hello world\n",
      "Hello world\n",
      "Hello world\n"
     ]
    }
   ],
   "source": [
    "print('Hello world')\n",
    "print(\"Hello world\")\n",
    "print(\"\"\"Hello world\"\"\")"
   ]
  },
  {
   "cell_type": "code",
   "execution_count": 21,
   "id": "da065ab6-3b10-468c-b0fe-aefc8276c653",
   "metadata": {},
   "outputs": [
    {
     "ename": "SyntaxError",
     "evalue": "unterminated string literal (detected at line 3) (1052234982.py, line 3)",
     "output_type": "error",
     "traceback": [
      "\u001b[1;36m  Cell \u001b[1;32mIn[21], line 3\u001b[1;36m\u001b[0m\n\u001b[1;33m    print('What's your name?')\u001b[0m\n\u001b[1;37m                            ^\u001b[0m\n\u001b[1;31mSyntaxError\u001b[0m\u001b[1;31m:\u001b[0m unterminated string literal (detected at line 3)\n"
     ]
    }
   ],
   "source": [
    "# uses of single and double quotes\n",
    "\n",
    "print('What's your name?')"
   ]
  },
  {
   "cell_type": "code",
   "execution_count": 22,
   "id": "1557e5db-52c3-4ce8-ae73-420dcf0849b2",
   "metadata": {},
   "outputs": [
    {
     "name": "stdout",
     "output_type": "stream",
     "text": [
      "What's your name?\n"
     ]
    }
   ],
   "source": [
    "print(\"What's your name?\")"
   ]
  },
  {
   "cell_type": "code",
   "execution_count": 23,
   "id": "a9bef839-7972-42ab-8414-5428e53fe596",
   "metadata": {},
   "outputs": [
    {
     "name": "stdout",
     "output_type": "stream",
     "text": [
      "What\"s your name?\n"
     ]
    }
   ],
   "source": [
    "print('What\"s your name?')"
   ]
  },
  {
   "cell_type": "markdown",
   "id": "93bb0be4-f6e6-4cbf-ae34-eaf15391ea26",
   "metadata": {},
   "source": [
    "# Basic Data Types in Python\n",
    "* __1.Number__\n",
    "  * __i.Integer__\n",
    "  * __ii.Float__\n",
    "  * __iii.Complex Number__\n",
    "* __2.Dictionary__\n",
    "* __3.Set__\n",
    "  * __i. Union__\n",
    "  * __ii.Intersection__\n",
    "  * __iii.Difference__\n",
    "  * __iv.Symmetric Difference__\n",
    "* __4.Boolean__\n",
    "  * __i.True__\n",
    "  * __ii.False__\n",
    "* __5. Sequence__\n",
    "  * __i.String__\n",
    "  * __ii.List__\n",
    "  * __iii.Tuple__"
   ]
  },
  {
   "cell_type": "code",
   "execution_count": 34,
   "id": "104bb5b1-3dc0-41ce-8e2e-b5ccec3bd2e1",
   "metadata": {},
   "outputs": [
    {
     "name": "stdout",
     "output_type": "stream",
     "text": [
      "Hello world\n",
      "100\n",
      "@#$%^&\n",
      "789.02\n",
      "100\n",
      "2000\n",
      "10\n",
      "100.23\n",
      "145.56\n",
      "0.23\n",
      "True\n",
      "False\n"
     ]
    }
   ],
   "source": [
    "# String\n",
    "print('Hello world')\n",
    "print('100')\n",
    "print('@#$%^&')\n",
    "print('789.02')\n",
    "\n",
    "# 2. Number : put value without quotes\n",
    "# Integer\n",
    "print(100)\n",
    "print(2000)\n",
    "print(10)\n",
    "\n",
    "# float\n",
    "print(100.23)\n",
    "print(145.56)\n",
    "print(00.23)\n",
    "\n",
    "# Boolean\n",
    "print(True)\n",
    "print(False)\n"
   ]
  },
  {
   "cell_type": "code",
   "execution_count": 47,
   "id": "cadd1fa5-85b2-46f6-b083-c3f984e81636",
   "metadata": {},
   "outputs": [
    {
     "name": "stdout",
     "output_type": "stream",
     "text": [
      "Charu Kulshrestha\n",
      "<class 'str'>\n",
      "100\n",
      "<class 'str'>\n",
      "!@#$%\n",
      "<class 'str'>\n",
      "100\n",
      "<class 'int'>\n",
      "1000\n",
      "<class 'int'>\n",
      "123.02\n",
      "<class 'float'>\n",
      "0.0\n",
      "<class 'float'>\n",
      "True\n",
      "<class 'bool'>\n",
      "False\n",
      "<class 'bool'>\n"
     ]
    }
   ],
   "source": [
    "# Check the datatype in python using type function\n",
    "# string form data\n",
    "print('Charu Kulshrestha')\n",
    "print(type('Charu Kulshrestha'))\n",
    "\n",
    "print('100')\n",
    "print(type('100'))\n",
    "print('!@#$%')\n",
    "print(type('!@#$%'))\n",
    "\n",
    "\n",
    "# number\n",
    "# integer\n",
    "print(100)\n",
    "print(type(100))\n",
    "print(1000)\n",
    "print(type(1000))\n",
    "\n",
    "#float\n",
    "print(123.02)\n",
    "print(type(123.02))\n",
    "print(00.00)\n",
    "print(type(00.00))\n",
    "\n",
    "# Boolean\n",
    "print(True)\n",
    "print(type(True))\n",
    "print(False)\n",
    "print(type(False))"
   ]
  },
  {
   "cell_type": "code",
   "execution_count": 52,
   "id": "0b83c6da-fe0e-44a1-bbd6-835fc6799fa9",
   "metadata": {},
   "outputs": [
    {
     "name": "stdout",
     "output_type": "stream",
     "text": [
      "1\n",
      "0\n"
     ]
    }
   ],
   "source": [
    "print(int(True))\n",
    "print(int(False))"
   ]
  },
  {
   "cell_type": "code",
   "execution_count": 56,
   "id": "413dc7a4-f611-4ce8-a9c9-7869d6c50c7a",
   "metadata": {},
   "outputs": [
    {
     "name": "stdout",
     "output_type": "stream",
     "text": [
      "100\n",
      "<class 'int'>\n"
     ]
    }
   ],
   "source": [
    "# Variable and constant\n",
    "x=100\n",
    "print(x)\n",
    "print(type(x))"
   ]
  },
  {
   "cell_type": "code",
   "execution_count": 62,
   "id": "048989ce-9c11-42e2-ba58-8efedf1e4f55",
   "metadata": {},
   "outputs": [
    {
     "name": "stdout",
     "output_type": "stream",
     "text": [
      "100\n",
      "<class 'int'>\n",
      "100.0\n",
      "<class 'float'>\n"
     ]
    }
   ],
   "source": [
    "x_1=100\n",
    "print(x_1)\n",
    "print(type(x_1))\n",
    "# converting integer form data into float\n",
    "y=float(x_1)\n",
    "print(y)\n",
    "print(type(y))\n"
   ]
  },
  {
   "cell_type": "code",
   "execution_count": null,
   "id": "a40c3fd7-765b-4081-9fbb-de580c5088d9",
   "metadata": {},
   "outputs": [],
   "source": []
  }
 ],
 "metadata": {
  "kernelspec": {
   "display_name": "Python 3 (ipykernel)",
   "language": "python",
   "name": "python3"
  },
  "language_info": {
   "codemirror_mode": {
    "name": "ipython",
    "version": 3
   },
   "file_extension": ".py",
   "mimetype": "text/x-python",
   "name": "python",
   "nbconvert_exporter": "python",
   "pygments_lexer": "ipython3",
   "version": "3.12.2"
  }
 },
 "nbformat": 4,
 "nbformat_minor": 5
}
